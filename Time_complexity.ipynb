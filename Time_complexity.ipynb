{
 "cells": [
  {
   "cell_type": "code",
   "execution_count": 1,
   "id": "d192ee30-d1de-4012-a509-e2a737657729",
   "metadata": {},
   "outputs": [],
   "source": [
    "# to find time complexity of blocks below: "
   ]
  },
  {
   "cell_type": "code",
   "execution_count": 2,
   "id": "85fd017c-09a1-43a6-afa1-53388b8587b8",
   "metadata": {},
   "outputs": [],
   "source": [
    "1)\n",
    "# def quicksort(arr):\n",
    "#if len(arr) <= 1:\n",
    "#return arr\n",
    "#pivot = arr[len(arr) // 2]\n",
    "#left = [x for x in arr if x < pivot]\n",
    "#middle = [x for x in arr if x == pivot]\n",
    "#right = [x for x in arr if x > pivot]\n",
    "#return quicksort(left) + middle + quicksort(right)"
   ]
  },
  {
   "cell_type": "code",
   "execution_count": null,
   "id": "f95c6994-f036-4456-a560-e08ae8927c57",
   "metadata": {},
   "outputs": [],
   "source": [
    " time complexity- O(n log n)"
   ]
  },
  {
   "cell_type": "code",
   "execution_count": null,
   "id": "0cd4ba26-fe3b-4ca8-877d-c0a264b41ab7",
   "metadata": {},
   "outputs": [],
   "source": [
    "2)\n",
    "#def nested_loop_example(matrix):\n",
    "#rows, cols = len(matrix), len(matrix[0])\n",
    "#total = 0\n",
    "#for i in range(rows):\n",
    "#for j in range(cols):\n",
    "#total += matrix[i][j]\n",
    "#return total"
   ]
  },
  {
   "cell_type": "code",
   "execution_count": null,
   "id": "f3851c92-a429-4cb6-82bd-a4d09b40b024",
   "metadata": {},
   "outputs": [],
   "source": [
    " time complexity-O(2*(i*j)), where i = no. of rows in the matrix and j = no. of columns in the matrix."
   ]
  },
  {
   "cell_type": "code",
   "execution_count": null,
   "id": "12be4f68-9f17-48dd-91c2-24dd92625c60",
   "metadata": {},
   "outputs": [],
   "source": [
    "3)\n",
    "#def example_function(arr):\n",
    "#result = 0\n",
    "#for element in arr:\n",
    "#result += element\n",
    "#return result"
   ]
  },
  {
   "cell_type": "code",
   "execution_count": null,
   "id": "9d3df522-32c0-49fb-8401-13c0d0ddc481",
   "metadata": {},
   "outputs": [],
   "source": [
    "time complexity- O(n^2)"
   ]
  },
  {
   "cell_type": "code",
   "execution_count": null,
   "id": "a5d48713-e170-4ba6-b444-b86a50214a5d",
   "metadata": {},
   "outputs": [],
   "source": [
    "4) \n",
    "#def longest_increasing_subsequence(nums):\n",
    "#n = len(nums)\n",
    "#lis = [1] * n\n",
    "#for i in range(1, n):\n",
    "#for j in range(0, i):\n",
    "#if nums[i] > nums[j] and lis[i] < lis[j] + 1:\n",
    "#lis[i] = lis[j] + 1\n",
    "#return max(lis)"
   ]
  },
  {
   "cell_type": "code",
   "execution_count": null,
   "id": "433e7785-8103-4fa5-9f9d-70731e11b30c",
   "metadata": {},
   "outputs": [],
   "source": [
    "time complexity- O(2^n)"
   ]
  },
  {
   "cell_type": "code",
   "execution_count": null,
   "id": "d60228e7-46e2-4561-b00c-b9bd7bc858f3",
   "metadata": {},
   "outputs": [],
   "source": [
    "5)\n",
    "#def mysterious_function(arr):\n",
    "#n = len(arr)\n",
    "#result = 0\n",
    "#for i in range(n):\n",
    "#for j in range(i, n):\n",
    "#result += arr[i] * arr[j]\n",
    "#return result"
   ]
  },
  {
   "cell_type": "code",
   "execution_count": null,
   "id": "145c9da7-132d-4508-902a-fca34c831131",
   "metadata": {},
   "outputs": [],
   "source": [
    "time complexity- O(n)"
   ]
  },
  {
   "cell_type": "code",
   "execution_count": 4,
   "id": "29a90b55-42c6-48f1-9cb7-688efe20aa76",
   "metadata": {},
   "outputs": [],
   "source": [
    "#6) Write a recursive function to calculate the sum of digits of a given positive integer."
   ]
  },
  {
   "cell_type": "code",
   "execution_count": 5,
   "id": "1b366ff2-b2dc-4be6-9c75-af10dc98e888",
   "metadata": {},
   "outputs": [],
   "source": [
    "def sum_of_digit( n ):\n",
    "    if n == 0:\n",
    "        return 0\n",
    "    return (n % 10 + sum_of_digit(int(n / 10)))"
   ]
  },
  {
   "cell_type": "code",
   "execution_count": 6,
   "id": "c9a0fd2b-e004-4166-8447-7908f68547a2",
   "metadata": {},
   "outputs": [
    {
     "name": "stdout",
     "output_type": "stream",
     "text": [
      "Sum of digits in 123 is 6\n"
     ]
    }
   ],
   "source": [
    "num = 123\n",
    "result = sum_of_digit(num)\n",
    "print(\"Sum of digits in\",num,\"is\", result)"
   ]
  },
  {
   "cell_type": "code",
   "execution_count": 7,
   "id": "3b9faba4-e621-42b6-8f9d-c526b5608865",
   "metadata": {},
   "outputs": [],
   "source": [
    "#7) Write a recursive function to generate the first n numbers of the Fibonacci series."
   ]
  },
  {
   "cell_type": "code",
   "execution_count": 14,
   "id": "b9ba7652-5480-4762-9d0c-6ed439578556",
   "metadata": {},
   "outputs": [],
   "source": [
    "def fibonacci(n):\n",
    "    a = 0\n",
    "    b = 1\n",
    "    if n < 0:\n",
    "        print(\"Incorrect input\")\n",
    "    elif n == 0:\n",
    "        return a\n",
    "    elif n == 1:\n",
    "        return b\n",
    "    else:\n",
    "        for i in range(2, n+1):\n",
    "            c = a + b\n",
    "            a = b\n",
    "            b = c\n",
    "        return b"
   ]
  },
  {
   "cell_type": "code",
   "execution_count": 15,
   "id": "7a20a6b6-2032-424a-8b13-970d93f39a59",
   "metadata": {},
   "outputs": [
    {
     "name": "stdout",
     "output_type": "stream",
     "text": [
      "8\n"
     ]
    }
   ],
   "source": [
    "print(fibonacci(6))"
   ]
  },
  {
   "cell_type": "code",
   "execution_count": 16,
   "id": "a9afbc0b-461c-4e00-895c-1a631c3a364d",
   "metadata": {},
   "outputs": [],
   "source": [
    "#8) Given a set of positive integers and a target sum, write a recursive function to determine if there exists a subset\n",
    "# of the integers that adds up to the target sum."
   ]
  },
  {
   "cell_type": "code",
   "execution_count": 17,
   "id": "46c404fb-d2ac-4b89-9785-f3dd88d01fcc",
   "metadata": {},
   "outputs": [],
   "source": [
    "def isSubsetSum(set, n, sum):\n",
    "\n",
    "    # Base Cases\n",
    "    if (sum == 0):\n",
    "        return True\n",
    "    if (n == 0):\n",
    "        return False\n",
    "   \n",
    "    if (set[n - 1] > sum):\n",
    "        return isSubsetSum(set, n - 1, sum)\n",
    "   \n",
    "    return isSubsetSum(\n",
    "        set, n-1, sum) or isSubsetSum(\n",
    "        set, n-1, sum-set[n-1])"
   ]
  },
  {
   "cell_type": "code",
   "execution_count": 18,
   "id": "68fb9d55-5b46-47d3-a39a-d49536c58eb8",
   "metadata": {},
   "outputs": [
    {
     "name": "stdout",
     "output_type": "stream",
     "text": [
      "Found a subset with given sum\n"
     ]
    }
   ],
   "source": [
    "if __name__ == '__main__':\n",
    "    set = [3, 34, 4, 12, 5, 2]\n",
    "    sum = 9\n",
    "    n = len(set)\n",
    "    if (isSubsetSum(set, n, sum) == True):\n",
    "        print(\"Found a subset with given sum\")\n",
    "    else:\n",
    "        print(\"No subset with given sum\")\n"
   ]
  },
  {
   "cell_type": "code",
   "execution_count": null,
   "id": "671d634f-c753-442a-8e33-7d949c385f85",
   "metadata": {},
   "outputs": [],
   "source": []
  }
 ],
 "metadata": {
  "kernelspec": {
   "display_name": "Python 3 (ipykernel)",
   "language": "python",
   "name": "python3"
  },
  "language_info": {
   "codemirror_mode": {
    "name": "ipython",
    "version": 3
   },
   "file_extension": ".py",
   "mimetype": "text/x-python",
   "name": "python",
   "nbconvert_exporter": "python",
   "pygments_lexer": "ipython3",
   "version": "3.10.8"
  }
 },
 "nbformat": 4,
 "nbformat_minor": 5
}
